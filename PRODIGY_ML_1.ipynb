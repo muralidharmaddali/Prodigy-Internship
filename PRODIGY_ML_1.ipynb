{
  "nbformat": 4,
  "nbformat_minor": 0,
  "metadata": {
    "colab": {
      "provenance": []
    },
    "kernelspec": {
      "name": "python3",
      "display_name": "Python 3"
    },
    "language_info": {
      "name": "python"
    }
  },
  "cells": [
    {
      "cell_type": "code",
      "execution_count": 1,
      "metadata": {
        "id": "6z3qU_HkRFt8"
      },
      "outputs": [],
      "source": [
        "import pandas as pd\n",
        "import numpy as np\n",
        "from sklearn.linear_model import LinearRegression\n",
        "from sklearn.model_selection import train_test_split\n",
        "from sklearn.metrics import mean_squared_error,r2_score"
      ]
    },
    {
      "cell_type": "code",
      "source": [
        "data = pd.read_csv(\"Housing.csv\")\n",
        "df = pd.DataFrame(data)"
      ],
      "metadata": {
        "id": "yfhgPZr6R5O9"
      },
      "execution_count": 2,
      "outputs": []
    },
    {
      "cell_type": "code",
      "source": [
        "X = df[['area','bedrooms','bathrooms']]\n",
        "y = df[['price']]\n",
        "X_train,X_test,y_train,y_test = train_test_split(X,y,test_size=0.2,random_state=43)"
      ],
      "metadata": {
        "id": "ho38v_kCR5Y-"
      },
      "execution_count": 6,
      "outputs": []
    },
    {
      "cell_type": "code",
      "source": [
        "model = LinearRegression()\n",
        "model.fit(X_train,y_train)\n",
        "y1 = model.predict(X_test)"
      ],
      "metadata": {
        "id": "C2EnJeA_TLMc"
      },
      "execution_count": 7,
      "outputs": []
    },
    {
      "cell_type": "code",
      "source": [
        "m = mean_squared_error(y_test,y1)\n",
        "r = r2_score(y_test,y1)\n",
        "print(m)\n",
        "print(r)\n"
      ],
      "metadata": {
        "colab": {
          "base_uri": "https://localhost:8080/"
        },
        "id": "MU3EJaexTLSI",
        "outputId": "5d1b4a67-61a4-4601-8ca3-e270b6993c5a"
      },
      "execution_count": 8,
      "outputs": [
        {
          "output_type": "stream",
          "name": "stdout",
          "text": [
            "2218257058386.727\n",
            "0.3701835668389275\n"
          ]
        }
      ]
    },
    {
      "cell_type": "code",
      "source": [
        "flat_new = np.array([[6573,3,2]])\n",
        "new_price = model.predict(flat_new)\n",
        "print(new_price)"
      ],
      "metadata": {
        "colab": {
          "base_uri": "https://localhost:8080/"
        },
        "id": "IAFn0WQzUKZf",
        "outputId": "05a4e07f-4f1e-480b-a8a4-8b13cc39072d"
      },
      "execution_count": 10,
      "outputs": [
        {
          "output_type": "stream",
          "name": "stdout",
          "text": [
            "[[6359636.13009714]]\n"
          ]
        },
        {
          "output_type": "stream",
          "name": "stderr",
          "text": [
            "/usr/local/lib/python3.10/dist-packages/sklearn/base.py:439: UserWarning: X does not have valid feature names, but LinearRegression was fitted with feature names\n",
            "  warnings.warn(\n"
          ]
        }
      ]
    }
  ]
}